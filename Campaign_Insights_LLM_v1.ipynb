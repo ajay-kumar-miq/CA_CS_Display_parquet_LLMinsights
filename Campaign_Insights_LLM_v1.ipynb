{
 "cells": [
  {
   "cell_type": "code",
   "execution_count": null,
   "metadata": {
    "application/vnd.databricks.v1+cell": {
     "cellMetadata": {
      "byteLimit": 2048000,
      "rowLimit": 10000
     },
     "inputWidgets": {},
     "nuid": "4aeec0d1-2685-4499-b86a-c7c57b6c4c81",
     "showTitle": false,
     "title": ""
    }
   },
   "outputs": [
    {
     "name": "stdout",
     "output_type": "stream",
     "text": [
      "Python interpreter will be restarted.\n",
      "ERROR: pip's dependency resolver does not currently take into account all the packages that are installed. This behaviour is the source of the following dependency conflicts.\n",
      "pymc3 3.11.5 requires numpy<1.22.2,>=1.15.0, but you have numpy 1.26.4 which is incompatible.\n",
      "scipy 1.7.3 requires numpy<1.23.0,>=1.16.5, but you have numpy 1.26.4 which is incompatible.\n",
      "Python interpreter will be restarted.\n"
     ]
    }
   ],
   "source": [
    "%pip install langchain accelerate transformers tensorflow  -q\n"
   ]
  },
  {
   "cell_type": "code",
   "execution_count": null,
   "metadata": {
    "application/vnd.databricks.v1+cell": {
     "cellMetadata": {
      "byteLimit": 2048000,
      "rowLimit": 10000
     },
     "inputWidgets": {},
     "nuid": "5051ecf5-7d2a-48d3-9b46-04a215f23e75",
     "showTitle": false,
     "title": ""
    }
   },
   "outputs": [
    {
     "name": "stderr",
     "output_type": "stream",
     "text": [
      "/databricks/python/lib/python3.9/site-packages/scipy/__init__.py:146: UserWarning: A NumPy version >=1.16.5 and <1.23.0 is required for this version of SciPy (detected version 1.26.4\n",
      "  warnings.warn(f\"A NumPy version >={np_minversion} and <{np_maxversion}\"\n"
     ]
    }
   ],
   "source": [
    "# IMPORTS\n",
    "import os\n",
    "from langchain import PromptTemplate, LLMChain\n",
    "from transformers import AutoModelForCausalLM, AutoTokenizer, pipeline, AutoModelForQuestionAnswering\n",
    "import torch\n",
    "import boto3\n",
    "from io import BytesIO\n",
    "from langchain import HuggingFacePipeline"
   ]
  },
  {
   "cell_type": "code",
   "execution_count": null,
   "metadata": {
    "application/vnd.databricks.v1+cell": {
     "cellMetadata": {
      "byteLimit": 2048000,
      "rowLimit": 10000
     },
     "inputWidgets": {},
     "nuid": "49347c49-1236-4ad9-a35d-93ae2020ebf4",
     "showTitle": false,
     "title": ""
    }
   },
   "outputs": [
    {
     "name": "stdout",
     "output_type": "stream",
     "text": [
      "['Campaign_Snapshot_Canada/Test_Canada_Campaign_Snapshot_MiQ_LLM/City/', 'Campaign_Snapshot_Canada/Test_Canada_Campaign_Snapshot_MiQ_LLM/Creative/', 'Campaign_Snapshot_Canada/Test_Canada_Campaign_Snapshot_MiQ_LLM/Demostats/', 'Campaign_Snapshot_Canada/Test_Canada_Campaign_Snapshot_MiQ_LLM/Eshopper/', 'Campaign_Snapshot_Canada/Test_Canada_Campaign_Snapshot_MiQ_LLM/Impressions_count/', 'Campaign_Snapshot_Canada/Test_Canada_Campaign_Snapshot_MiQ_LLM/Numeris/', 'Campaign_Snapshot_Canada/Test_Canada_Campaign_Snapshot_MiQ_LLM/Prizm/', 'Campaign_Snapshot_Canada/Test_Canada_Campaign_Snapshot_MiQ_LLM/Region/', 'Campaign_Snapshot_Canada/Test_Canada_Campaign_Snapshot_MiQ_LLM/Strategy/', 'Campaign_Snapshot_Canada/Test_Canada_Campaign_Snapshot_MiQ_LLM/Tactic/', 'Campaign_Snapshot_Canada/Test_Canada_Campaign_Snapshot_MiQ_LLM/Temporal/']\n",
      "['City', 'Creative', 'Demostats', 'Eshopper', 'Impressions_count', 'Numeris', 'Prizm', 'Region', 'Strategy', 'Tactic', 'Temporal']\n"
     ]
    }
   ],
   "source": [
    "def list_folders_in_folder(bucket_name, folder_path):\n",
    "    \"\"\"\n",
    "    List the folders directly under a particular folder (prefix) in an S3 bucket.\n",
    "    \n",
    "    Args:\n",
    "        bucket_name (str): Name of the S3 bucket.\n",
    "        folder_path (str): Path to the folder (prefix) in the bucket.\n",
    "        \n",
    "    Returns:\n",
    "        list: List of folder names in the specified folder.\n",
    "    \"\"\"\n",
    "    # Create an S3 client\n",
    "    s3 = boto3.client('s3')\n",
    "    \n",
    "    # List objects in the folder (prefix) with delimiter set to '/'\n",
    "    response = s3.list_objects_v2(Bucket=bucket_name, Prefix=folder_path, Delimiter='/')\n",
    "    \n",
    "    # Extract folder names from the response\n",
    "    folders_path = [prefix['Prefix'] for prefix in response.get('CommonPrefixes', [])]\n",
    "    folders_in_folder = [prefix['Prefix'].split('/')[-2] for prefix in response.get('CommonPrefixes', [])]\n",
    "    \n",
    "    return folders_path, folders_in_folder\n",
    "\n",
    "bucket_name = 'analyst-adhoc'\n",
    "folder_path = 'Campaign_Snapshot_Canada/Test_Canada_Campaign_Snapshot_MiQ_LLM/'\n",
    "\n",
    "folders_path, folders_in_folder = list_folders_in_folder(bucket_name, folder_path)\n",
    "\n",
    "print(folders_path)\n",
    "print(folders_in_folder)"
   ]
  },
  {
   "cell_type": "code",
   "execution_count": null,
   "metadata": {
    "application/vnd.databricks.v1+cell": {
     "cellMetadata": {
      "byteLimit": 2048000,
      "rowLimit": 10000
     },
     "inputWidgets": {},
     "nuid": "6880bb08-7bb5-455c-916a-e8a90904bedd",
     "showTitle": false,
     "title": ""
    }
   },
   "outputs": [],
   "source": [
    "MODEL_ID = \"mistralai/Mistral-7B-Instruct-v0.2\"\n",
    "CACHE_DIR = \"dbfs:/tmp/hf_mistral_cache\"\n",
    "ADVERTISER_FLAG = \"Advertiser_flag=dzx5gjn-72lfq2o;jyptqpl;byl8rou;6ndxcjp-2023-05-01-2023-05-30/\""
   ]
  },
  {
   "cell_type": "code",
   "execution_count": null,
   "metadata": {
    "application/vnd.databricks.v1+cell": {
     "cellMetadata": {
      "byteLimit": 2048000,
      "rowLimit": 10000
     },
     "inputWidgets": {},
     "nuid": "926614e8-8474-4d90-a500-8eeb62687c65",
     "showTitle": false,
     "title": ""
    }
   },
   "outputs": [],
   "source": [
    "def list_parquet_files_in_folder(bucket_name, folder_path):\n",
    "    \"\"\"\n",
    "    List the Parquet files in a folder (prefix) in an S3 bucket.\n",
    "    \n",
    "    Args:\n",
    "        bucket_name (str): Name of the S3 bucket.\n",
    "        folder_path (str): Path to the folder (prefix) in the bucket.\n",
    "        \n",
    "    Returns:\n",
    "        list: List of Parquet file keys (paths) in the specified folder.\n",
    "    \"\"\"\n",
    "    # Create an S3 client\n",
    "    s3 = boto3.client('s3')\n",
    "    \n",
    "    # List objects in the folder (prefix)\n",
    "    response = s3.list_objects_v2(Bucket=bucket_name, Prefix=folder_path)\n",
    "    \n",
    "    # Filter Parquet files from the response\n",
    "    parquet_files = [obj['Key'] for obj in response.get('Contents', []) if obj['Key'].endswith('.parquet')]\n",
    "    \n",
    "    return parquet_files\n"
   ]
  },
  {
   "cell_type": "code",
   "execution_count": null,
   "metadata": {
    "application/vnd.databricks.v1+cell": {
     "cellMetadata": {
      "byteLimit": 2048000,
      "rowLimit": 10000
     },
     "inputWidgets": {},
     "nuid": "ffa8aebd-b532-4ee4-b1d3-0b2fbd152a26",
     "showTitle": false,
     "title": ""
    }
   },
   "outputs": [
    {
     "data": {
      "application/vnd.jupyter.widget-view+json": {
       "model_id": "336a5c37dd7c4e45afe054ef26a363db",
       "version_major": 2,
       "version_minor": 0
      },
      "text/plain": [
       "Loading checkpoint shards:   0%|          | 0/3 [00:00<?, ?it/s]"
      ]
     },
     "metadata": {},
     "output_type": "display_data"
    }
   ],
   "source": [
    "tokenizer = AutoTokenizer.from_pretrained(MODEL_ID)\n",
    "model = AutoModelForCausalLM.from_pretrained(MODEL_ID,device_map=\"auto\",cache_dir=CACHE_DIR)"
   ]
  },
  {
   "cell_type": "code",
   "execution_count": null,
   "metadata": {
    "application/vnd.databricks.v1+cell": {
     "cellMetadata": {
      "byteLimit": 2048000,
      "rowLimit": 10000
     },
     "inputWidgets": {},
     "nuid": "4a4a5137-8943-4ca5-8ac7-f6d14a30b8d0",
     "showTitle": false,
     "title": ""
    }
   },
   "outputs": [],
   "source": [
    "pipe = pipeline(\n",
    "    \"text-generation\", \n",
    "    model=model, \n",
    "    tokenizer=tokenizer,\n",
    "    max_new_tokens=512\n",
    ")\n",
    "\n",
    "# Create an instance of the HuggingFacePipeline, which wraps the question-answering pipeline\n",
    "# with additional model-specific arguments (temperature and max_length)\n",
    "llm = HuggingFacePipeline(\n",
    "    pipeline=pipe,\n",
    "    model_kwargs={\"temperature\": 0.2, \"max_length\": 2048},\n",
    ")"
   ]
  },
  {
   "cell_type": "code",
   "execution_count": null,
   "metadata": {
    "application/vnd.databricks.v1+cell": {
     "cellMetadata": {
      "byteLimit": 2048000,
      "rowLimit": 10000
     },
     "inputWidgets": {},
     "nuid": "c286c358-3644-4f3b-98a4-f894c3892142",
     "showTitle": false,
     "title": ""
    }
   },
   "outputs": [],
   "source": [
    "template = \"\"\"\n",
    "You are an analyst reviewing data insights in the ad-tech domain. You will be provided with data columns and their corresponding values, representing various metrics and attributes from an advertising campaign. Your task is to narrate the insights derived from this data. You will be provided one row of the dataframe.\n",
    "\n",
    "Row : {row}\n",
    "\n",
    "Please narrate the insights for each relevant data point, providing analysis and interpretations based on the provided values.\n",
    "\"\"\""
   ]
  },
  {
   "cell_type": "code",
   "execution_count": null,
   "metadata": {
    "application/vnd.databricks.v1+cell": {
     "cellMetadata": {
      "byteLimit": 2048000,
      "rowLimit": 10000
     },
     "inputWidgets": {},
     "nuid": "281f2e11-2b6a-4cd1-b658-92150d984af6",
     "showTitle": false,
     "title": ""
    }
   },
   "outputs": [],
   "source": [
    "prompt = PromptTemplate(template=template, input_variables=['row'])\n",
    "chain = LLMChain(prompt=prompt, llm=llm)"
   ]
  },
  {
   "cell_type": "code",
   "execution_count": null,
   "metadata": {
    "application/vnd.databricks.v1+cell": {
     "cellMetadata": {
      "byteLimit": 2048000,
      "rowLimit": 10000
     },
     "inputWidgets": {},
     "nuid": "d7039ec1-2a15-43a9-a6c7-16b980bb34e2",
     "showTitle": false,
     "title": ""
    }
   },
   "outputs": [
    {
     "data": {
      "application/vnd.databricks.v1+bamboolib_hint": "{\"pd.DataFrames\": [], \"version\": \"0.0.1\"}",
      "text/plain": []
     },
     "metadata": {},
     "output_type": "display_data"
    }
   ],
   "source": [
    "import pandas as pd\n",
    "log = pd.DataFrame(columns=['Advertisement_Flag', 'Folder_name', 'URI', 'Parquet_contents', 'LLM_Response'])"
   ]
  },
  {
   "cell_type": "code",
   "execution_count": null,
   "metadata": {
    "application/vnd.databricks.v1+cell": {
     "cellMetadata": {
      "byteLimit": 2048000,
      "rowLimit": 10000
     },
     "inputWidgets": {},
     "nuid": "963b92f3-3381-479b-8378-40568a9047be",
     "showTitle": false,
     "title": ""
    }
   },
   "outputs": [
    {
     "name": "stderr",
     "output_type": "stream",
     "text": [
      "Setting `pad_token_id` to `eos_token_id`:2 for open-end generation.\n",
      "Setting `pad_token_id` to `eos_token_id`:2 for open-end generation.\n",
      "Setting `pad_token_id` to `eos_token_id`:2 for open-end generation.\n",
      "Setting `pad_token_id` to `eos_token_id`:2 for open-end generation.\n",
      "Setting `pad_token_id` to `eos_token_id`:2 for open-end generation.\n",
      "Setting `pad_token_id` to `eos_token_id`:2 for open-end generation.\n",
      "Setting `pad_token_id` to `eos_token_id`:2 for open-end generation.\n",
      "Setting `pad_token_id` to `eos_token_id`:2 for open-end generation.\n"
     ]
    }
   ],
   "source": [
    "for i in range(len(folders_in_folder)):\n",
    "  PATH = f\"{folders_path[i]}{ADVERTISER_FLAG}\"\n",
    "  parquet_files_in_folder = list_parquet_files_in_folder(bucket_name, PATH)\n",
    "  if len(parquet_files_in_folder) != 0:\n",
    "    p = parquet_files_in_folder[0]\n",
    "    s3uri = f\"s3://{bucket_name}/{p}\"\n",
    "    df = spark.read.parquet(s3uri)\n",
    "    row = df.first()\n",
    "    response = chain.invoke({'row': row})\n",
    "    res = response['text']\n",
    "    new_log={'Advertisement_Flag' : f'{ADVERTISER_FLAG}', 'Folder_name' : f'{folders_in_folder[i]}', 'URI' : f'{s3uri}', 'Parquet_contents' : f'{row}', 'LLM_Response' : f'{res}'} \n",
    "    log.loc[len(log)] = new_log\n",
    "\n",
    "  else:\n",
    "    new_log={'Advertisement_Flag' : f'{ADVERTISER_FLAG}', 'Folder_name' : f'{folders_in_folder[i]}', 'URI' : f'{PATH}', 'Parquet_contents' : 'NULL', 'LLM_Response' : 'parquet file not found!'} \n",
    "    log.loc[len(log)] = new_log\n",
    "  "
   ]
  },
  {
   "cell_type": "code",
   "execution_count": null,
   "metadata": {
    "application/vnd.databricks.v1+cell": {
     "cellMetadata": {
      "byteLimit": 2048000,
      "rowLimit": 10000
     },
     "inputWidgets": {},
     "nuid": "73e97db0-f541-4ff2-a482-fbd4e9a3bf75",
     "showTitle": false,
     "title": ""
    }
   },
   "outputs": [
    {
     "data": {
      "text/html": [
       "<div>\n",
       "<style scoped>\n",
       "    .dataframe tbody tr th:only-of-type {\n",
       "        vertical-align: middle;\n",
       "    }\n",
       "\n",
       "    .dataframe tbody tr th {\n",
       "        vertical-align: top;\n",
       "    }\n",
       "\n",
       "    .dataframe thead th {\n",
       "        text-align: right;\n",
       "    }\n",
       "</style>\n",
       "<table border=\"1\" class=\"dataframe\">\n",
       "  <thead>\n",
       "    <tr style=\"text-align: right;\">\n",
       "      <th></th>\n",
       "      <th>Advertisement_Flag</th>\n",
       "      <th>Folder_name</th>\n",
       "      <th>URI</th>\n",
       "      <th>Parquet_contents</th>\n",
       "      <th>LLM_Response</th>\n",
       "    </tr>\n",
       "  </thead>\n",
       "  <tbody>\n",
       "    <tr>\n",
       "      <th>0</th>\n",
       "      <td>Advertiser_flag=dzx5gjn-72lfq2o;jyptqpl;byl8ro...</td>\n",
       "      <td>City</td>\n",
       "      <td>Campaign_Snapshot_Canada/Test_Canada_Campaign_...</td>\n",
       "      <td>NULL</td>\n",
       "      <td>parquet file not found!</td>\n",
       "    </tr>\n",
       "    <tr>\n",
       "      <th>1</th>\n",
       "      <td>Advertiser_flag=dzx5gjn-72lfq2o;jyptqpl;byl8ro...</td>\n",
       "      <td>Creative</td>\n",
       "      <td>s3://analyst-adhoc/Campaign_Snapshot_Canada/Te...</td>\n",
       "      <td>Row(creative_name='CA_TENA_DISPLAY_INCO_CA_APE...</td>\n",
       "      <td>\\nInsights:\\n\\n1. The creative name 'CA_TENA_D...</td>\n",
       "    </tr>\n",
       "    <tr>\n",
       "      <th>2</th>\n",
       "      <td>Advertiser_flag=dzx5gjn-72lfq2o;jyptqpl;byl8ro...</td>\n",
       "      <td>Demostats</td>\n",
       "      <td>s3://analyst-adhoc/Campaign_Snapshot_Canada/Te...</td>\n",
       "      <td>Row(catdesc='Households by Maintainer Age', de...</td>\n",
       "      <td>\\nInsights:\\n\\n1. The given data represents th...</td>\n",
       "    </tr>\n",
       "    <tr>\n",
       "      <th>3</th>\n",
       "      <td>Advertiser_flag=dzx5gjn-72lfq2o;jyptqpl;byl8ro...</td>\n",
       "      <td>Eshopper</td>\n",
       "      <td>s3://analyst-adhoc/Campaign_Snapshot_Canada/Te...</td>\n",
       "      <td>Row(Category='Online Product Purchase', Descri...</td>\n",
       "      <td>\\nInsights:\\n1. The given row represents an ad...</td>\n",
       "    </tr>\n",
       "    <tr>\n",
       "      <th>4</th>\n",
       "      <td>Advertiser_flag=dzx5gjn-72lfq2o;jyptqpl;byl8ro...</td>\n",
       "      <td>Impressions_count</td>\n",
       "      <td>s3://analyst-adhoc/Campaign_Snapshot_Canada/Te...</td>\n",
       "      <td>Row(advertiser='CA - Tena c.o Starcom Canada',...</td>\n",
       "      <td>\\nInsights:\\n\\n1. Impression count display: Th...</td>\n",
       "    </tr>\n",
       "  </tbody>\n",
       "</table>\n",
       "</div>"
      ]
     },
     "metadata": {
      "application/vnd.databricks.v1+output": {
       "addedWidgets": {},
       "arguments": {},
       "data": "<div>\n<style scoped>\n    .dataframe tbody tr th:only-of-type {\n        vertical-align: middle;\n    }\n\n    .dataframe tbody tr th {\n        vertical-align: top;\n    }\n\n    .dataframe thead th {\n        text-align: right;\n    }\n</style>\n<table border=\"1\" class=\"dataframe\">\n  <thead>\n    <tr style=\"text-align: right;\">\n      <th></th>\n      <th>Advertisement_Flag</th>\n      <th>Folder_name</th>\n      <th>URI</th>\n      <th>Parquet_contents</th>\n      <th>LLM_Response</th>\n    </tr>\n  </thead>\n  <tbody>\n    <tr>\n      <th>0</th>\n      <td>Advertiser_flag=dzx5gjn-72lfq2o;jyptqpl;byl8ro...</td>\n      <td>City</td>\n      <td>Campaign_Snapshot_Canada/Test_Canada_Campaign_...</td>\n      <td>NULL</td>\n      <td>parquet file not found!</td>\n    </tr>\n    <tr>\n      <th>1</th>\n      <td>Advertiser_flag=dzx5gjn-72lfq2o;jyptqpl;byl8ro...</td>\n      <td>Creative</td>\n      <td>s3://analyst-adhoc/Campaign_Snapshot_Canada/Te...</td>\n      <td>Row(creative_name='CA_TENA_DISPLAY_INCO_CA_APE...</td>\n      <td>\\nInsights:\\n\\n1. The creative name 'CA_TENA_D...</td>\n    </tr>\n    <tr>\n      <th>2</th>\n      <td>Advertiser_flag=dzx5gjn-72lfq2o;jyptqpl;byl8ro...</td>\n      <td>Demostats</td>\n      <td>s3://analyst-adhoc/Campaign_Snapshot_Canada/Te...</td>\n      <td>Row(catdesc='Households by Maintainer Age', de...</td>\n      <td>\\nInsights:\\n\\n1. The given data represents th...</td>\n    </tr>\n    <tr>\n      <th>3</th>\n      <td>Advertiser_flag=dzx5gjn-72lfq2o;jyptqpl;byl8ro...</td>\n      <td>Eshopper</td>\n      <td>s3://analyst-adhoc/Campaign_Snapshot_Canada/Te...</td>\n      <td>Row(Category='Online Product Purchase', Descri...</td>\n      <td>\\nInsights:\\n1. The given row represents an ad...</td>\n    </tr>\n    <tr>\n      <th>4</th>\n      <td>Advertiser_flag=dzx5gjn-72lfq2o;jyptqpl;byl8ro...</td>\n      <td>Impressions_count</td>\n      <td>s3://analyst-adhoc/Campaign_Snapshot_Canada/Te...</td>\n      <td>Row(advertiser='CA - Tena c.o Starcom Canada',...</td>\n      <td>\\nInsights:\\n\\n1. Impression count display: Th...</td>\n    </tr>\n  </tbody>\n</table>\n</div>",
       "datasetInfos": [],
       "metadata": {},
       "removedWidgets": [],
       "textData": null,
       "type": "htmlSandbox"
      }
     },
     "output_type": "display_data"
    }
   ],
   "source": [
    "log.head()"
   ]
  },
  {
   "cell_type": "code",
   "execution_count": null,
   "metadata": {
    "application/vnd.databricks.v1+cell": {
     "cellMetadata": {
      "byteLimit": 2048000,
      "rowLimit": 10000
     },
     "inputWidgets": {},
     "nuid": "afd6c910-89c6-456c-a918-bd1ce75a8c5e",
     "showTitle": false,
     "title": ""
    }
   },
   "outputs": [
    {
     "data": {
      "text/html": [
       "<div>\n",
       "<style scoped>\n",
       "    .dataframe tbody tr th:only-of-type {\n",
       "        vertical-align: middle;\n",
       "    }\n",
       "\n",
       "    .dataframe tbody tr th {\n",
       "        vertical-align: top;\n",
       "    }\n",
       "\n",
       "    .dataframe thead th {\n",
       "        text-align: right;\n",
       "    }\n",
       "</style>\n",
       "<table border=\"1\" class=\"dataframe\">\n",
       "  <thead>\n",
       "    <tr style=\"text-align: right;\">\n",
       "      <th></th>\n",
       "      <th>Advertisement_Flag</th>\n",
       "      <th>Folder_name</th>\n",
       "      <th>URI</th>\n",
       "      <th>Parquet_contents</th>\n",
       "      <th>LLM_Response</th>\n",
       "    </tr>\n",
       "  </thead>\n",
       "  <tbody>\n",
       "    <tr>\n",
       "      <th>6</th>\n",
       "      <td>Advertiser_flag=dzx5gjn-72lfq2o;jyptqpl;byl8ro...</td>\n",
       "      <td>Prizm</td>\n",
       "      <td>s3://analyst-adhoc/Campaign_Snapshot_Canada/Te...</td>\n",
       "      <td>Row(name='Indieville', prizmdescriptor='Younge...</td>\n",
       "      <td>\\nInsights:\\n\\n1. The name of the segment is '...</td>\n",
       "    </tr>\n",
       "    <tr>\n",
       "      <th>7</th>\n",
       "      <td>Advertiser_flag=dzx5gjn-72lfq2o;jyptqpl;byl8ro...</td>\n",
       "      <td>Region</td>\n",
       "      <td>s3://analyst-adhoc/Campaign_Snapshot_Canada/Te...</td>\n",
       "      <td>Row(region='Newfoundland and Labrador', impres...</td>\n",
       "      <td>\\nInsights:\\n\\n1. Region: The advertising camp...</td>\n",
       "    </tr>\n",
       "    <tr>\n",
       "      <th>8</th>\n",
       "      <td>Advertiser_flag=dzx5gjn-72lfq2o;jyptqpl;byl8ro...</td>\n",
       "      <td>Strategy</td>\n",
       "      <td>Campaign_Snapshot_Canada/Test_Canada_Campaign_...</td>\n",
       "      <td>NULL</td>\n",
       "      <td>parquet file not found!</td>\n",
       "    </tr>\n",
       "    <tr>\n",
       "      <th>9</th>\n",
       "      <td>Advertiser_flag=dzx5gjn-72lfq2o;jyptqpl;byl8ro...</td>\n",
       "      <td>Tactic</td>\n",
       "      <td>Campaign_Snapshot_Canada/Test_Canada_Campaign_...</td>\n",
       "      <td>NULL</td>\n",
       "      <td>parquet file not found!</td>\n",
       "    </tr>\n",
       "    <tr>\n",
       "      <th>10</th>\n",
       "      <td>Advertiser_flag=dzx5gjn-72lfq2o;jyptqpl;byl8ro...</td>\n",
       "      <td>Temporal</td>\n",
       "      <td>s3://analyst-adhoc/Campaign_Snapshot_Canada/Te...</td>\n",
       "      <td>Row(date1='2023-05-28', time_of_day='09', day_...</td>\n",
       "      <td>\\nInsights:\\n1. The date of this data point is...</td>\n",
       "    </tr>\n",
       "  </tbody>\n",
       "</table>\n",
       "</div>"
      ]
     },
     "metadata": {
      "application/vnd.databricks.v1+output": {
       "addedWidgets": {},
       "arguments": {},
       "data": "<div>\n<style scoped>\n    .dataframe tbody tr th:only-of-type {\n        vertical-align: middle;\n    }\n\n    .dataframe tbody tr th {\n        vertical-align: top;\n    }\n\n    .dataframe thead th {\n        text-align: right;\n    }\n</style>\n<table border=\"1\" class=\"dataframe\">\n  <thead>\n    <tr style=\"text-align: right;\">\n      <th></th>\n      <th>Advertisement_Flag</th>\n      <th>Folder_name</th>\n      <th>URI</th>\n      <th>Parquet_contents</th>\n      <th>LLM_Response</th>\n    </tr>\n  </thead>\n  <tbody>\n    <tr>\n      <th>6</th>\n      <td>Advertiser_flag=dzx5gjn-72lfq2o;jyptqpl;byl8ro...</td>\n      <td>Prizm</td>\n      <td>s3://analyst-adhoc/Campaign_Snapshot_Canada/Te...</td>\n      <td>Row(name='Indieville', prizmdescriptor='Younge...</td>\n      <td>\\nInsights:\\n\\n1. The name of the segment is '...</td>\n    </tr>\n    <tr>\n      <th>7</th>\n      <td>Advertiser_flag=dzx5gjn-72lfq2o;jyptqpl;byl8ro...</td>\n      <td>Region</td>\n      <td>s3://analyst-adhoc/Campaign_Snapshot_Canada/Te...</td>\n      <td>Row(region='Newfoundland and Labrador', impres...</td>\n      <td>\\nInsights:\\n\\n1. Region: The advertising camp...</td>\n    </tr>\n    <tr>\n      <th>8</th>\n      <td>Advertiser_flag=dzx5gjn-72lfq2o;jyptqpl;byl8ro...</td>\n      <td>Strategy</td>\n      <td>Campaign_Snapshot_Canada/Test_Canada_Campaign_...</td>\n      <td>NULL</td>\n      <td>parquet file not found!</td>\n    </tr>\n    <tr>\n      <th>9</th>\n      <td>Advertiser_flag=dzx5gjn-72lfq2o;jyptqpl;byl8ro...</td>\n      <td>Tactic</td>\n      <td>Campaign_Snapshot_Canada/Test_Canada_Campaign_...</td>\n      <td>NULL</td>\n      <td>parquet file not found!</td>\n    </tr>\n    <tr>\n      <th>10</th>\n      <td>Advertiser_flag=dzx5gjn-72lfq2o;jyptqpl;byl8ro...</td>\n      <td>Temporal</td>\n      <td>s3://analyst-adhoc/Campaign_Snapshot_Canada/Te...</td>\n      <td>Row(date1='2023-05-28', time_of_day='09', day_...</td>\n      <td>\\nInsights:\\n1. The date of this data point is...</td>\n    </tr>\n  </tbody>\n</table>\n</div>",
       "datasetInfos": [],
       "metadata": {},
       "removedWidgets": [],
       "textData": null,
       "type": "htmlSandbox"
      }
     },
     "output_type": "display_data"
    }
   ],
   "source": [
    "log.tail()"
   ]
  },
  {
   "cell_type": "code",
   "execution_count": null,
   "metadata": {
    "application/vnd.databricks.v1+cell": {
     "cellMetadata": {
      "byteLimit": 2048000,
      "rowLimit": 10000
     },
     "inputWidgets": {},
     "nuid": "eb9bd7e9-0a1c-4c3d-9f02-d0057647a9d9",
     "showTitle": false,
     "title": ""
    }
   },
   "outputs": [
    {
     "data": {
      "application/vnd.databricks.v1+bamboolib_hint": "{\"pd.DataFrames\": [], \"version\": \"0.0.1\"}",
      "text/plain": []
     },
     "metadata": {},
     "output_type": "display_data"
    }
   ],
   "source": [
    "import pandas as pd\n",
    "d = pd.read_csv('/dbfs/tmp/s3_insights.csv')"
   ]
  },
  {
   "cell_type": "code",
   "execution_count": null,
   "metadata": {
    "application/vnd.databricks.v1+cell": {
     "cellMetadata": {
      "byteLimit": 2048000,
      "rowLimit": 10000
     },
     "inputWidgets": {},
     "nuid": "87eea2d9-2d06-4c9a-93a6-1263473b0359",
     "showTitle": false,
     "title": ""
    }
   },
   "outputs": [
    {
     "data": {
      "text/html": [
       "<div>\n",
       "<style scoped>\n",
       "    .dataframe tbody tr th:only-of-type {\n",
       "        vertical-align: middle;\n",
       "    }\n",
       "\n",
       "    .dataframe tbody tr th {\n",
       "        vertical-align: top;\n",
       "    }\n",
       "\n",
       "    .dataframe thead th {\n",
       "        text-align: right;\n",
       "    }\n",
       "</style>\n",
       "<table border=\"1\" class=\"dataframe\">\n",
       "  <thead>\n",
       "    <tr style=\"text-align: right;\">\n",
       "      <th></th>\n",
       "      <th>Advertisement_Flag</th>\n",
       "      <th>Folder_name</th>\n",
       "      <th>URI</th>\n",
       "      <th>Parquet_contents</th>\n",
       "      <th>LLM_Response</th>\n",
       "    </tr>\n",
       "  </thead>\n",
       "  <tbody>\n",
       "    <tr>\n",
       "      <th>0</th>\n",
       "      <td>Advertiser_flag=dzx5gjn-72lfq2o;jyptqpl;byl8ro...</td>\n",
       "      <td>City</td>\n",
       "      <td>Campaign_Snapshot_Canada/Test_Canada_Campaign_...</td>\n",
       "      <td>NaN</td>\n",
       "      <td>parquet file not found!</td>\n",
       "    </tr>\n",
       "    <tr>\n",
       "      <th>1</th>\n",
       "      <td>Advertiser_flag=dzx5gjn-72lfq2o;jyptqpl;byl8ro...</td>\n",
       "      <td>Creative</td>\n",
       "      <td>s3://analyst-adhoc/Campaign_Snapshot_Canada/Te...</td>\n",
       "      <td>Row(creative_name='CA_TENA_DISPLAY_INCO_CA_APE...</td>\n",
       "      <td>\\nInsights:\\n\\n1. The creative name 'CA_TENA_D...</td>\n",
       "    </tr>\n",
       "    <tr>\n",
       "      <th>2</th>\n",
       "      <td>Advertiser_flag=dzx5gjn-72lfq2o;jyptqpl;byl8ro...</td>\n",
       "      <td>Demostats</td>\n",
       "      <td>s3://analyst-adhoc/Campaign_Snapshot_Canada/Te...</td>\n",
       "      <td>Row(catdesc='Households by Maintainer Age', de...</td>\n",
       "      <td>\\nInsights:\\n\\n1. The given data represents th...</td>\n",
       "    </tr>\n",
       "    <tr>\n",
       "      <th>3</th>\n",
       "      <td>Advertiser_flag=dzx5gjn-72lfq2o;jyptqpl;byl8ro...</td>\n",
       "      <td>Eshopper</td>\n",
       "      <td>s3://analyst-adhoc/Campaign_Snapshot_Canada/Te...</td>\n",
       "      <td>Row(Category='Online Product Purchase', Descri...</td>\n",
       "      <td>\\nInsights:\\n1. The given row represents an ad...</td>\n",
       "    </tr>\n",
       "    <tr>\n",
       "      <th>4</th>\n",
       "      <td>Advertiser_flag=dzx5gjn-72lfq2o;jyptqpl;byl8ro...</td>\n",
       "      <td>Impressions_count</td>\n",
       "      <td>s3://analyst-adhoc/Campaign_Snapshot_Canada/Te...</td>\n",
       "      <td>Row(advertiser='CA - Tena c.o Starcom Canada',...</td>\n",
       "      <td>\\nInsights:\\n\\n1. Impression count display: Th...</td>\n",
       "    </tr>\n",
       "    <tr>\n",
       "      <th>5</th>\n",
       "      <td>Advertiser_flag=dzx5gjn-72lfq2o;jyptqpl;byl8ro...</td>\n",
       "      <td>Numeris</td>\n",
       "      <td>s3://analyst-adhoc/Campaign_Snapshot_Canada/Te...</td>\n",
       "      <td>Row(Category='Personal Care - Cosmetics', Desc...</td>\n",
       "      <td>\\nInsights:\\n1. The given row represents data ...</td>\n",
       "    </tr>\n",
       "    <tr>\n",
       "      <th>6</th>\n",
       "      <td>Advertiser_flag=dzx5gjn-72lfq2o;jyptqpl;byl8ro...</td>\n",
       "      <td>Prizm</td>\n",
       "      <td>s3://analyst-adhoc/Campaign_Snapshot_Canada/Te...</td>\n",
       "      <td>Row(name='Indieville', prizmdescriptor='Younge...</td>\n",
       "      <td>\\nInsights:\\n\\n1. The name of the segment is '...</td>\n",
       "    </tr>\n",
       "    <tr>\n",
       "      <th>7</th>\n",
       "      <td>Advertiser_flag=dzx5gjn-72lfq2o;jyptqpl;byl8ro...</td>\n",
       "      <td>Region</td>\n",
       "      <td>s3://analyst-adhoc/Campaign_Snapshot_Canada/Te...</td>\n",
       "      <td>Row(region='Newfoundland and Labrador', impres...</td>\n",
       "      <td>\\nInsights:\\n\\n1. Region: The advertising camp...</td>\n",
       "    </tr>\n",
       "    <tr>\n",
       "      <th>8</th>\n",
       "      <td>Advertiser_flag=dzx5gjn-72lfq2o;jyptqpl;byl8ro...</td>\n",
       "      <td>Strategy</td>\n",
       "      <td>Campaign_Snapshot_Canada/Test_Canada_Campaign_...</td>\n",
       "      <td>NaN</td>\n",
       "      <td>parquet file not found!</td>\n",
       "    </tr>\n",
       "    <tr>\n",
       "      <th>9</th>\n",
       "      <td>Advertiser_flag=dzx5gjn-72lfq2o;jyptqpl;byl8ro...</td>\n",
       "      <td>Tactic</td>\n",
       "      <td>Campaign_Snapshot_Canada/Test_Canada_Campaign_...</td>\n",
       "      <td>NaN</td>\n",
       "      <td>parquet file not found!</td>\n",
       "    </tr>\n",
       "    <tr>\n",
       "      <th>10</th>\n",
       "      <td>Advertiser_flag=dzx5gjn-72lfq2o;jyptqpl;byl8ro...</td>\n",
       "      <td>Temporal</td>\n",
       "      <td>s3://analyst-adhoc/Campaign_Snapshot_Canada/Te...</td>\n",
       "      <td>Row(date1='2023-05-28', time_of_day='09', day_...</td>\n",
       "      <td>\\nInsights:\\n1. The date of this data point is...</td>\n",
       "    </tr>\n",
       "  </tbody>\n",
       "</table>\n",
       "</div>"
      ]
     },
     "metadata": {
      "application/vnd.databricks.v1+output": {
       "addedWidgets": {},
       "arguments": {},
       "data": "<div>\n<style scoped>\n    .dataframe tbody tr th:only-of-type {\n        vertical-align: middle;\n    }\n\n    .dataframe tbody tr th {\n        vertical-align: top;\n    }\n\n    .dataframe thead th {\n        text-align: right;\n    }\n</style>\n<table border=\"1\" class=\"dataframe\">\n  <thead>\n    <tr style=\"text-align: right;\">\n      <th></th>\n      <th>Advertisement_Flag</th>\n      <th>Folder_name</th>\n      <th>URI</th>\n      <th>Parquet_contents</th>\n      <th>LLM_Response</th>\n    </tr>\n  </thead>\n  <tbody>\n    <tr>\n      <th>0</th>\n      <td>Advertiser_flag=dzx5gjn-72lfq2o;jyptqpl;byl8ro...</td>\n      <td>City</td>\n      <td>Campaign_Snapshot_Canada/Test_Canada_Campaign_...</td>\n      <td>NaN</td>\n      <td>parquet file not found!</td>\n    </tr>\n    <tr>\n      <th>1</th>\n      <td>Advertiser_flag=dzx5gjn-72lfq2o;jyptqpl;byl8ro...</td>\n      <td>Creative</td>\n      <td>s3://analyst-adhoc/Campaign_Snapshot_Canada/Te...</td>\n      <td>Row(creative_name='CA_TENA_DISPLAY_INCO_CA_APE...</td>\n      <td>\\nInsights:\\n\\n1. The creative name 'CA_TENA_D...</td>\n    </tr>\n    <tr>\n      <th>2</th>\n      <td>Advertiser_flag=dzx5gjn-72lfq2o;jyptqpl;byl8ro...</td>\n      <td>Demostats</td>\n      <td>s3://analyst-adhoc/Campaign_Snapshot_Canada/Te...</td>\n      <td>Row(catdesc='Households by Maintainer Age', de...</td>\n      <td>\\nInsights:\\n\\n1. The given data represents th...</td>\n    </tr>\n    <tr>\n      <th>3</th>\n      <td>Advertiser_flag=dzx5gjn-72lfq2o;jyptqpl;byl8ro...</td>\n      <td>Eshopper</td>\n      <td>s3://analyst-adhoc/Campaign_Snapshot_Canada/Te...</td>\n      <td>Row(Category='Online Product Purchase', Descri...</td>\n      <td>\\nInsights:\\n1. The given row represents an ad...</td>\n    </tr>\n    <tr>\n      <th>4</th>\n      <td>Advertiser_flag=dzx5gjn-72lfq2o;jyptqpl;byl8ro...</td>\n      <td>Impressions_count</td>\n      <td>s3://analyst-adhoc/Campaign_Snapshot_Canada/Te...</td>\n      <td>Row(advertiser='CA - Tena c.o Starcom Canada',...</td>\n      <td>\\nInsights:\\n\\n1. Impression count display: Th...</td>\n    </tr>\n    <tr>\n      <th>5</th>\n      <td>Advertiser_flag=dzx5gjn-72lfq2o;jyptqpl;byl8ro...</td>\n      <td>Numeris</td>\n      <td>s3://analyst-adhoc/Campaign_Snapshot_Canada/Te...</td>\n      <td>Row(Category='Personal Care - Cosmetics', Desc...</td>\n      <td>\\nInsights:\\n1. The given row represents data ...</td>\n    </tr>\n    <tr>\n      <th>6</th>\n      <td>Advertiser_flag=dzx5gjn-72lfq2o;jyptqpl;byl8ro...</td>\n      <td>Prizm</td>\n      <td>s3://analyst-adhoc/Campaign_Snapshot_Canada/Te...</td>\n      <td>Row(name='Indieville', prizmdescriptor='Younge...</td>\n      <td>\\nInsights:\\n\\n1. The name of the segment is '...</td>\n    </tr>\n    <tr>\n      <th>7</th>\n      <td>Advertiser_flag=dzx5gjn-72lfq2o;jyptqpl;byl8ro...</td>\n      <td>Region</td>\n      <td>s3://analyst-adhoc/Campaign_Snapshot_Canada/Te...</td>\n      <td>Row(region='Newfoundland and Labrador', impres...</td>\n      <td>\\nInsights:\\n\\n1. Region: The advertising camp...</td>\n    </tr>\n    <tr>\n      <th>8</th>\n      <td>Advertiser_flag=dzx5gjn-72lfq2o;jyptqpl;byl8ro...</td>\n      <td>Strategy</td>\n      <td>Campaign_Snapshot_Canada/Test_Canada_Campaign_...</td>\n      <td>NaN</td>\n      <td>parquet file not found!</td>\n    </tr>\n    <tr>\n      <th>9</th>\n      <td>Advertiser_flag=dzx5gjn-72lfq2o;jyptqpl;byl8ro...</td>\n      <td>Tactic</td>\n      <td>Campaign_Snapshot_Canada/Test_Canada_Campaign_...</td>\n      <td>NaN</td>\n      <td>parquet file not found!</td>\n    </tr>\n    <tr>\n      <th>10</th>\n      <td>Advertiser_flag=dzx5gjn-72lfq2o;jyptqpl;byl8ro...</td>\n      <td>Temporal</td>\n      <td>s3://analyst-adhoc/Campaign_Snapshot_Canada/Te...</td>\n      <td>Row(date1='2023-05-28', time_of_day='09', day_...</td>\n      <td>\\nInsights:\\n1. The date of this data point is...</td>\n    </tr>\n  </tbody>\n</table>\n</div>",
       "datasetInfos": [],
       "metadata": {},
       "removedWidgets": [],
       "textData": null,
       "type": "htmlSandbox"
      }
     },
     "output_type": "display_data"
    }
   ],
   "source": [
    "d"
   ]
  },
  {
   "cell_type": "code",
   "execution_count": null,
   "metadata": {
    "application/vnd.databricks.v1+cell": {
     "cellMetadata": {
      "byteLimit": 2048000,
      "rowLimit": 10000
     },
     "inputWidgets": {},
     "nuid": "1e265fa9-294e-4326-a8d1-fc16a6abe0f9",
     "showTitle": false,
     "title": ""
    }
   },
   "outputs": [
    {
     "name": "stdout",
     "output_type": "stream",
     "text": [
      "Creative\n",
      "\n",
      "Insights:\n",
      "\n",
      "1. The creative name 'CA_TENA_DISPLAY_INCO_CA_APEX Programmatic Display Video-CA-TENA-DD-INCO-Men-M45+-PRO-PROOX-PD-DCPM-TENA-Men-Acceptors-StandardBanner-Prop-EN-160x600-New-GLD000KJGC_230228_DCM_360691291' suggests that this is a programmatic display video ad campaign for TENA, targeting men aged 45 and above, with a creative size of 160x600 pixels. The creative name also indicates that this is a new campaign, as denoted by the 'New' keyword.\n",
      "\n",
      "2. The 'impressions_display' metric indicates that this creative has been displayed 7 times. This means that the ad has been shown to potential viewers 7 times, but it does not necessarily mean that 7 unique individuals have seen the ad.\n",
      "\n",
      "3. The 'clicks' metric is 0, indicating that no clicks have been recorded for this creative yet. This could mean that the ad is not performing well or that it has not been shown to enough people yet to generate any clicks.\n",
      "\n",
      "4. The 'total_conversions' metric is also 0, suggesting that no conversions have been recorded for this creative. A conversion is typically defined as a desired action taken by a user, such as making a purchase or filling out a form. The lack of conversions could indicate that the ad is not resonating with the target audience or that the creative is not effectively driving users to take the desired action.\n",
      "\n",
      "5. Based on the provided data, it appears that this creative is still in the early stages of its campaign, as indicated by the lack of clicks and conversions. It may be worth monitoring the performance of this creative over time to see if it starts to generate more engagement and conversions. Additionally, it may be worth considering optimizing the creative or targeting to improve its performance. For example, testing different ad copy, images, or targeting criteria could help to increase clicks and conversions.\n"
     ]
    }
   ],
   "source": [
    "print(d[\"Folder_name\"][1])\n",
    "print(d['LLM_Response'][1])"
   ]
  },
  {
   "cell_type": "code",
   "execution_count": null,
   "metadata": {
    "application/vnd.databricks.v1+cell": {
     "cellMetadata": {
      "byteLimit": 2048000,
      "rowLimit": 10000
     },
     "inputWidgets": {},
     "nuid": "1dd9c317-e5e7-4e7b-b180-fd526871c327",
     "showTitle": false,
     "title": ""
    }
   },
   "outputs": [
    {
     "name": "stdout",
     "output_type": "stream",
     "text": [
      "Demostats\n",
      "\n",
      "Insights:\n",
      "\n",
      "1. The given data represents the campaign metric for 'Households by Maintainer Age' with a specific description 'Maintainers 25 To 34'. This indicates that the campaign is targeting households where the age of the maintainer falls between 25 and 34.\n",
      "\n",
      "2. The 'impressions_display' value is 9. This metric represents the number of times the ad was displayed to users. In this case, the ad was displayed 9 times in total for this specific target group.\n",
      "\n",
      "3. The 'clicks' value is 0. This metric indicates the number of clicks the ad received from users in this target group. In this case, no clicks were recorded for the 'Maintainers 25 To 34' age group.\n",
      "\n",
      "4. The 'total_conversions' value is also 0. This metric represents the number of conversions, which is a desired action taken by the user after clicking on the ad. In this case, no conversions were recorded for the 'Maintainers 25 To 34' age group.\n",
      "\n",
      "5. Based on the provided data, it appears that the ad campaign is not performing well for the 'Maintainers 25 To 34' age group. The lack of clicks and conversions suggests that the ad may not be resonating with this demographic. Further analysis, such as examining the ad creative, targeting, and messaging, may be necessary to determine the root cause of the poor performance and identify potential improvements.\n"
     ]
    }
   ],
   "source": [
    "print(d[\"Folder_name\"][2])\n",
    "print(d['LLM_Response'][2])"
   ]
  },
  {
   "cell_type": "code",
   "execution_count": null,
   "metadata": {
    "application/vnd.databricks.v1+cell": {
     "cellMetadata": {},
     "inputWidgets": {},
     "nuid": "0d305322-979f-4845-a781-45093faa053b",
     "showTitle": false,
     "title": ""
    }
   },
   "outputs": [],
   "source": []
  }
 ],
 "metadata": {
  "application/vnd.databricks.v1+notebook": {
   "dashboards": [],
   "language": "python",
   "notebookMetadata": {
    "mostRecentlyExecutedCommandWithImplicitDF": {
     "commandId": -1,
     "dataframes": [
      "_sqldf"
     ]
    },
    "pythonIndentUnit": 2
   },
   "notebookName": "Campaign_Insights_LLM",
   "widgets": {}
  },
  "language_info": {
   "name": "python"
  }
 },
 "nbformat": 4,
 "nbformat_minor": 0
}
