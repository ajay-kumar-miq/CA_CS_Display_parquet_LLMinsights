{
 "cells": [
  {
   "cell_type": "code",
   "execution_count": 0,
   "metadata": {
    "application/vnd.databricks.v1+cell": {
     "cellMetadata": {
      "byteLimit": 2048000,
      "rowLimit": 10000
     },
     "inputWidgets": {},
     "nuid": "4aeec0d1-2685-4499-b86a-c7c57b6c4c81",
     "showTitle": false,
     "title": ""
    }
   },
   "outputs": [
    {
     "output_type": "stream",
     "name": "stdout",
     "output_type": "stream",
     "text": [
      "Python interpreter will be restarted.\nERROR: pip's dependency resolver does not currently take into account all the packages that are installed. This behaviour is the source of the following dependency conflicts.\npymc3 3.11.5 requires numpy<1.22.2,>=1.15.0, but you have numpy 1.26.4 which is incompatible.\nscipy 1.7.3 requires numpy<1.23.0,>=1.16.5, but you have numpy 1.26.4 which is incompatible.\nPython interpreter will be restarted.\n"
     ]
    }
   ],
   "source": [
    "%pip install langchain accelerate transformers tensorflow  -q\n"
   ]
  },
  {
   "cell_type": "code",
   "execution_count": 0,
   "metadata": {
    "application/vnd.databricks.v1+cell": {
     "cellMetadata": {
      "byteLimit": 2048000,
      "rowLimit": 10000
     },
     "inputWidgets": {},
     "nuid": "5051ecf5-7d2a-48d3-9b46-04a215f23e75",
     "showTitle": false,
     "title": ""
    }
   },
   "outputs": [
    {
     "output_type": "stream",
     "name": "stderr",
     "output_type": "stream",
     "text": [
      "/databricks/python/lib/python3.9/site-packages/scipy/__init__.py:146: UserWarning: A NumPy version >=1.16.5 and <1.23.0 is required for this version of SciPy (detected version 1.26.4\n  warnings.warn(f\"A NumPy version >={np_minversion} and <{np_maxversion}\"\n"
     ]
    }
   ],
   "source": [
    "# IMPORTS\n",
    "import os\n",
    "from langchain import PromptTemplate, LLMChain\n",
    "from transformers import AutoModelForCausalLM, AutoTokenizer, pipeline, AutoModelForQuestionAnswering\n",
    "import torch\n",
    "import boto3\n",
    "from io import BytesIO\n",
    "from langchain import HuggingFacePipeline"
   ]
  },
  {
   "cell_type": "code",
   "execution_count": 0,
   "metadata": {
    "application/vnd.databricks.v1+cell": {
     "cellMetadata": {
      "byteLimit": 2048000,
      "rowLimit": 10000
     },
     "inputWidgets": {},
     "nuid": "49347c49-1236-4ad9-a35d-93ae2020ebf4",
     "showTitle": false,
     "title": ""
    }
   },
   "outputs": [
    {
     "output_type": "stream",
     "name": "stdout",
     "output_type": "stream",
     "text": [
      "['Campaign_Snapshot_Canada/Test_Canada_Campaign_Snapshot_MiQ_LLM/City/', 'Campaign_Snapshot_Canada/Test_Canada_Campaign_Snapshot_MiQ_LLM/Creative/', 'Campaign_Snapshot_Canada/Test_Canada_Campaign_Snapshot_MiQ_LLM/Demostats/', 'Campaign_Snapshot_Canada/Test_Canada_Campaign_Snapshot_MiQ_LLM/Eshopper/', 'Campaign_Snapshot_Canada/Test_Canada_Campaign_Snapshot_MiQ_LLM/Impressions_count/', 'Campaign_Snapshot_Canada/Test_Canada_Campaign_Snapshot_MiQ_LLM/Numeris/', 'Campaign_Snapshot_Canada/Test_Canada_Campaign_Snapshot_MiQ_LLM/Prizm/', 'Campaign_Snapshot_Canada/Test_Canada_Campaign_Snapshot_MiQ_LLM/Region/', 'Campaign_Snapshot_Canada/Test_Canada_Campaign_Snapshot_MiQ_LLM/Strategy/', 'Campaign_Snapshot_Canada/Test_Canada_Campaign_Snapshot_MiQ_LLM/Tactic/', 'Campaign_Snapshot_Canada/Test_Canada_Campaign_Snapshot_MiQ_LLM/Temporal/']\n['City', 'Creative', 'Demostats', 'Eshopper', 'Impressions_count', 'Numeris', 'Prizm', 'Region', 'Strategy', 'Tactic', 'Temporal']\n"
     ]
    }
   ],
   "source": [
    "def list_folders_in_folder(bucket_name, folder_path):\n",
    "    \"\"\"\n",
    "    List the folders directly under a particular folder (prefix) in an S3 bucket.\n",
    "    \n",
    "    Args:\n",
    "        bucket_name (str): Name of the S3 bucket.\n",
    "        folder_path (str): Path to the folder (prefix) in the bucket.\n",
    "        \n",
    "    Returns:\n",
    "        list: List of folder names in the specified folder.\n",
    "    \"\"\"\n",
    "    # Create an S3 client\n",
    "    s3 = boto3.client('s3')\n",
    "    \n",
    "    # List objects in the folder (prefix) with delimiter set to '/'\n",
    "    response = s3.list_objects_v2(Bucket=bucket_name, Prefix=folder_path, Delimiter='/')\n",
    "    \n",
    "    # Extract folder names from the response\n",
    "    folders_path = [prefix['Prefix'] for prefix in response.get('CommonPrefixes', [])]\n",
    "    folders_in_folder = [prefix['Prefix'].split('/')[-2] for prefix in response.get('CommonPrefixes', [])]\n",
    "    \n",
    "    return folders_path, folders_in_folder\n",
    "\n",
    "bucket_name = 'analyst-adhoc'\n",
    "folder_path = 'Campaign_Snapshot_Canada/Test_Canada_Campaign_Snapshot_MiQ_LLM/'\n",
    "\n",
    "folders_path, folders_in_folder = list_folders_in_folder(bucket_name, folder_path)\n",
    "\n",
    "print(folders_path)\n",
    "print(folders_in_folder)"
   ]
  },
  {
   "cell_type": "code",
   "execution_count": 0,
   "metadata": {
    "application/vnd.databricks.v1+cell": {
     "cellMetadata": {
      "byteLimit": 2048000,
      "rowLimit": 10000
     },
     "inputWidgets": {},
     "nuid": "6880bb08-7bb5-455c-916a-e8a90904bedd",
     "showTitle": false,
     "title": ""
    }
   },
   "outputs": [],
   "source": [
    "MODEL_ID = \"mistralai/Mistral-7B-Instruct-v0.2\"\n",
    "CACHE_DIR = \"dbfs:/tmp/hf_mistral_cache\"\n",
    "ADVERTISER_FLAG = \"Advertiser_flag=dzx5gjn-72lfq2o;jyptqpl;byl8rou;6ndxcjp-2023-05-01-2023-05-30/\""
   ]
  },
  {
   "cell_type": "code",
   "execution_count": 0,
   "metadata": {
    "application/vnd.databricks.v1+cell": {
     "cellMetadata": {
      "byteLimit": 2048000,
      "rowLimit": 10000
     },
     "inputWidgets": {},
     "nuid": "926614e8-8474-4d90-a500-8eeb62687c65",
     "showTitle": false,
     "title": ""
    }
   },
   "outputs": [],
   "source": [
    "def list_parquet_files_in_folder(bucket_name, folder_path):\n",
    "    \"\"\"\n",
    "    List the Parquet files in a folder (prefix) in an S3 bucket.\n",
    "    \n",
    "    Args:\n",
    "        bucket_name (str): Name of the S3 bucket.\n",
    "        folder_path (str): Path to the folder (prefix) in the bucket.\n",
    "        \n",
    "    Returns:\n",
    "        list: List of Parquet file keys (paths) in the specified folder.\n",
    "    \"\"\"\n",
    "    # Create an S3 client\n",
    "    s3 = boto3.client('s3')\n",
    "    \n",
    "    # List objects in the folder (prefix)\n",
    "    response = s3.list_objects_v2(Bucket=bucket_name, Prefix=folder_path)\n",
    "    \n",
    "    # Filter Parquet files from the response\n",
    "    parquet_files = [obj['Key'] for obj in response.get('Contents', []) if obj['Key'].endswith('.parquet')]\n",
    "    \n",
    "    return parquet_files\n"
   ]
  },
  {
   "cell_type": "code",
   "execution_count": 0,
   "metadata": {
    "application/vnd.databricks.v1+cell": {
     "cellMetadata": {
      "byteLimit": 2048000,
      "rowLimit": 10000
     },
     "inputWidgets": {},
     "nuid": "ffa8aebd-b532-4ee4-b1d3-0b2fbd152a26",
     "showTitle": false,
     "title": ""
    }
   },
   "outputs": [
    {
     "output_type": "display_data",
     "data": {
      "application/vnd.jupyter.widget-view+json": {
       "model_id": "ece0eea11ac0490e95fdcb71f6470f95",
       "version_major": 2,
       "version_minor": 0
      },
      "text/plain": [
       "Loading checkpoint shards:   0%|          | 0/3 [00:00<?, ?it/s]"
      ]
     },
     "metadata": {},
     "output_type": "display_data"
    }
   ],
   "source": [
    "tokenizer = AutoTokenizer.from_pretrained(MODEL_ID)\n",
    "model = AutoModelForCausalLM.from_pretrained(MODEL_ID,device_map=\"auto\",cache_dir=CACHE_DIR)"
   ]
  },
  {
   "cell_type": "code",
   "execution_count": 0,
   "metadata": {
    "application/vnd.databricks.v1+cell": {
     "cellMetadata": {
      "byteLimit": 2048000,
      "rowLimit": 10000
     },
     "inputWidgets": {},
     "nuid": "4a4a5137-8943-4ca5-8ac7-f6d14a30b8d0",
     "showTitle": false,
     "title": ""
    }
   },
   "outputs": [],
   "source": [
    "pipe = pipeline(\n",
    "    \"text-generation\", \n",
    "    model=model, \n",
    "    tokenizer=tokenizer,\n",
    "    max_new_tokens=512\n",
    ")\n",
    "\n",
    "# Create an instance of the HuggingFacePipeline, which wraps the question-answering pipeline\n",
    "# with additional model-specific arguments (temperature and max_length)\n",
    "llm = HuggingFacePipeline(\n",
    "    pipeline=pipe,\n",
    "    model_kwargs={\"temperature\": 0.2, \"max_length\": 2048},\n",
    ")"
   ]
  },
  {
   "cell_type": "code",
   "execution_count": 0,
   "metadata": {
    "application/vnd.databricks.v1+cell": {
     "cellMetadata": {
      "byteLimit": 2048000,
      "rowLimit": 10000
     },
     "inputWidgets": {},
     "nuid": "c286c358-3644-4f3b-98a4-f894c3892142",
     "showTitle": false,
     "title": ""
    }
   },
   "outputs": [],
   "source": [
    "template = \"\"\"\n",
    "You are an analyst reviewing data insights in the ad-tech domain. You will be provided with data columns and their corresponding values, representing various metrics and attributes from an advertising campaign. Your task is to narrate the insights derived from this data. You will be provided one row of the dataframe.\n",
    "\n",
    "Row : {row}\n",
    "\n",
    "Please narrate the insights for each relevant data point, providing analysis and interpretations based on the provided values.\n",
    "Provide a short summary of the insights generated at the end.\n",
    "\"\"\""
   ]
  },
  {
   "cell_type": "code",
   "execution_count": 0,
   "metadata": {
    "application/vnd.databricks.v1+cell": {
     "cellMetadata": {
      "byteLimit": 2048000,
      "rowLimit": 10000
     },
     "inputWidgets": {},
     "nuid": "281f2e11-2b6a-4cd1-b658-92150d984af6",
     "showTitle": false,
     "title": ""
    }
   },
   "outputs": [],
   "source": [
    "prompt = PromptTemplate(template=template, input_variables=['row'])\n",
    "chain = LLMChain(prompt=prompt, llm=llm)"
   ]
  },
  {
   "cell_type": "code",
   "execution_count": 0,
   "metadata": {
    "application/vnd.databricks.v1+cell": {
     "cellMetadata": {
      "byteLimit": 2048000,
      "rowLimit": 10000
     },
     "inputWidgets": {},
     "nuid": "d7039ec1-2a15-43a9-a6c7-16b980bb34e2",
     "showTitle": false,
     "title": ""
    }
   },
   "outputs": [
    {
     "output_type": "display_data",
     "data": {
      "application/vnd.databricks.v1+bamboolib_hint": "{\"pd.DataFrames\": [], \"version\": \"0.0.1\"}",
      "text/plain": []
     },
     "metadata": {},
     "output_type": "display_data"
    }
   ],
   "source": [
    "import pandas as pd\n",
    "log = pd.DataFrame(columns=['Advertisement_Flag', 'Folder_name', 'URI', 'Parquet_contents', 'LLM_Response'])"
   ]
  },
  {
   "cell_type": "code",
   "execution_count": 0,
   "metadata": {
    "application/vnd.databricks.v1+cell": {
     "cellMetadata": {
      "byteLimit": 2048000,
      "rowLimit": 10000
     },
     "inputWidgets": {},
     "nuid": "963b92f3-3381-479b-8378-40568a9047be",
     "showTitle": false,
     "title": ""
    }
   },
   "outputs": [
    {
     "output_type": "stream",
     "name": "stderr",
     "output_type": "stream",
     "text": [
      "Setting `pad_token_id` to `eos_token_id`:2 for open-end generation.\nSetting `pad_token_id` to `eos_token_id`:2 for open-end generation.\nSetting `pad_token_id` to `eos_token_id`:2 for open-end generation.\nSetting `pad_token_id` to `eos_token_id`:2 for open-end generation.\nSetting `pad_token_id` to `eos_token_id`:2 for open-end generation.\nSetting `pad_token_id` to `eos_token_id`:2 for open-end generation.\nSetting `pad_token_id` to `eos_token_id`:2 for open-end generation.\nSetting `pad_token_id` to `eos_token_id`:2 for open-end generation.\n"
     ]
    }
   ],
   "source": [
    "import pyspark.sql.functions as F\n",
    "\n",
    "for i in range(len(folders_in_folder)):\n",
    "  PATH = f\"{folders_path[i]}{ADVERTISER_FLAG}\"\n",
    "  parquet_files_in_folder = list_parquet_files_in_folder(bucket_name, PATH)\n",
    "  if len(parquet_files_in_folder) != 0:\n",
    "    p = parquet_files_in_folder[0]\n",
    "    s3uri = f\"s3://{bucket_name}/{p}\"\n",
    "    df = spark.read.parquet(s3uri)\n",
    "    row = df.first()\n",
    "    response = chain.invoke({'row': row})\n",
    "    res = response['text']\n",
    "    new_log = {\n",
    "            'Advertisement_Flag': f'{ADVERTISER_FLAG}',\n",
    "            'Folder_name': f'{folders_in_folder[i]}',\n",
    "            'URI': f'{s3uri}',\n",
    "            'Parquet_contents': f'{row}',\n",
    "            'LLM_Response': f'{res}'\n",
    "        }\n",
    "  else:\n",
    "    new_log = {\n",
    "            'Advertisement_Flag': f'{ADVERTISER_FLAG}',\n",
    "            'Folder_name': f'{folders_in_folder[i]}',\n",
    "            'URI': f'{PATH}',\n",
    "            'Parquet_contents': 'NULL',\n",
    "            'LLM_Response': 'parquet file not found!'\n",
    "        }\n",
    "  log.loc[len(log)] = new_log"
   ]
  },
  {
   "cell_type": "code",
   "execution_count": 0,
   "metadata": {
    "application/vnd.databricks.v1+cell": {
     "cellMetadata": {
      "byteLimit": 2048000,
      "rowLimit": 10000
     },
     "inputWidgets": {},
     "nuid": "88a8de26-ced0-4f49-9e18-e49c734a89cf",
     "showTitle": false,
     "title": ""
    }
   },
   "outputs": [
    {
     "output_type": "display_data",
     "data": {
      "text/html": [
       "<div>\n",
       "<style scoped>\n",
       "    .dataframe tbody tr th:only-of-type {\n",
       "        vertical-align: middle;\n",
       "    }\n",
       "\n",
       "    .dataframe tbody tr th {\n",
       "        vertical-align: top;\n",
       "    }\n",
       "\n",
       "    .dataframe thead th {\n",
       "        text-align: right;\n",
       "    }\n",
       "</style>\n",
       "<table border=\"1\" class=\"dataframe\">\n",
       "  <thead>\n",
       "    <tr style=\"text-align: right;\">\n",
       "      <th></th>\n",
       "      <th>Advertisement_Flag</th>\n",
       "      <th>Folder_name</th>\n",
       "      <th>URI</th>\n",
       "      <th>Parquet_contents</th>\n",
       "      <th>LLM_Response</th>\n",
       "    </tr>\n",
       "  </thead>\n",
       "  <tbody>\n",
       "    <tr>\n",
       "      <th>0</th>\n",
       "      <td>Advertiser_flag=dzx5gjn-72lfq2o;jyptqpl;byl8ro...</td>\n",
       "      <td>City</td>\n",
       "      <td>Campaign_Snapshot_Canada/Test_Canada_Campaign_...</td>\n",
       "      <td>NULL</td>\n",
       "      <td>parquet file not found!</td>\n",
       "    </tr>\n",
       "    <tr>\n",
       "      <th>1</th>\n",
       "      <td>Advertiser_flag=dzx5gjn-72lfq2o;jyptqpl;byl8ro...</td>\n",
       "      <td>Creative</td>\n",
       "      <td>s3://analyst-adhoc/Campaign_Snapshot_Canada/Te...</td>\n",
       "      <td>Row(creative_name='CA_TENA_DISPLAY_INCO_CA_APE...</td>\n",
       "      <td>\\nInsights:\\n1. The creative name 'CA_TENA_DIS...</td>\n",
       "    </tr>\n",
       "    <tr>\n",
       "      <th>2</th>\n",
       "      <td>Advertiser_flag=dzx5gjn-72lfq2o;jyptqpl;byl8ro...</td>\n",
       "      <td>Demostats</td>\n",
       "      <td>s3://analyst-adhoc/Campaign_Snapshot_Canada/Te...</td>\n",
       "      <td>Row(catdesc='Households by Maintainer Age', de...</td>\n",
       "      <td>\\nInsights:\\n1. The given data represents the ...</td>\n",
       "    </tr>\n",
       "    <tr>\n",
       "      <th>3</th>\n",
       "      <td>Advertiser_flag=dzx5gjn-72lfq2o;jyptqpl;byl8ro...</td>\n",
       "      <td>Eshopper</td>\n",
       "      <td>s3://analyst-adhoc/Campaign_Snapshot_Canada/Te...</td>\n",
       "      <td>Row(Category='Online Product Purchase', Descri...</td>\n",
       "      <td>\\nInsights:\\n1. The given row represents an ad...</td>\n",
       "    </tr>\n",
       "    <tr>\n",
       "      <th>4</th>\n",
       "      <td>Advertiser_flag=dzx5gjn-72lfq2o;jyptqpl;byl8ro...</td>\n",
       "      <td>Impressions_count</td>\n",
       "      <td>s3://analyst-adhoc/Campaign_Snapshot_Canada/Te...</td>\n",
       "      <td>Row(advertiser='CA - Tena c.o Starcom Canada',...</td>\n",
       "      <td>\\nInsights:\\n1. Impression count display: The ...</td>\n",
       "    </tr>\n",
       "  </tbody>\n",
       "</table>\n",
       "</div>"
      ]
     },
     "metadata": {
      "application/vnd.databricks.v1+output": {
       "addedWidgets": {},
       "arguments": {},
       "data": "<div>\n<style scoped>\n    .dataframe tbody tr th:only-of-type {\n        vertical-align: middle;\n    }\n\n    .dataframe tbody tr th {\n        vertical-align: top;\n    }\n\n    .dataframe thead th {\n        text-align: right;\n    }\n</style>\n<table border=\"1\" class=\"dataframe\">\n  <thead>\n    <tr style=\"text-align: right;\">\n      <th></th>\n      <th>Advertisement_Flag</th>\n      <th>Folder_name</th>\n      <th>URI</th>\n      <th>Parquet_contents</th>\n      <th>LLM_Response</th>\n    </tr>\n  </thead>\n  <tbody>\n    <tr>\n      <th>0</th>\n      <td>Advertiser_flag=dzx5gjn-72lfq2o;jyptqpl;byl8ro...</td>\n      <td>City</td>\n      <td>Campaign_Snapshot_Canada/Test_Canada_Campaign_...</td>\n      <td>NULL</td>\n      <td>parquet file not found!</td>\n    </tr>\n    <tr>\n      <th>1</th>\n      <td>Advertiser_flag=dzx5gjn-72lfq2o;jyptqpl;byl8ro...</td>\n      <td>Creative</td>\n      <td>s3://analyst-adhoc/Campaign_Snapshot_Canada/Te...</td>\n      <td>Row(creative_name='CA_TENA_DISPLAY_INCO_CA_APE...</td>\n      <td>\\nInsights:\\n1. The creative name 'CA_TENA_DIS...</td>\n    </tr>\n    <tr>\n      <th>2</th>\n      <td>Advertiser_flag=dzx5gjn-72lfq2o;jyptqpl;byl8ro...</td>\n      <td>Demostats</td>\n      <td>s3://analyst-adhoc/Campaign_Snapshot_Canada/Te...</td>\n      <td>Row(catdesc='Households by Maintainer Age', de...</td>\n      <td>\\nInsights:\\n1. The given data represents the ...</td>\n    </tr>\n    <tr>\n      <th>3</th>\n      <td>Advertiser_flag=dzx5gjn-72lfq2o;jyptqpl;byl8ro...</td>\n      <td>Eshopper</td>\n      <td>s3://analyst-adhoc/Campaign_Snapshot_Canada/Te...</td>\n      <td>Row(Category='Online Product Purchase', Descri...</td>\n      <td>\\nInsights:\\n1. The given row represents an ad...</td>\n    </tr>\n    <tr>\n      <th>4</th>\n      <td>Advertiser_flag=dzx5gjn-72lfq2o;jyptqpl;byl8ro...</td>\n      <td>Impressions_count</td>\n      <td>s3://analyst-adhoc/Campaign_Snapshot_Canada/Te...</td>\n      <td>Row(advertiser='CA - Tena c.o Starcom Canada',...</td>\n      <td>\\nInsights:\\n1. Impression count display: The ...</td>\n    </tr>\n  </tbody>\n</table>\n</div>",
       "datasetInfos": [],
       "metadata": {},
       "removedWidgets": [],
       "textData": null,
       "type": "htmlSandbox"
      }
     },
     "output_type": "display_data"
    }
   ],
   "source": [
    "log.head()"
   ]
  },
  {
   "cell_type": "code",
   "execution_count": 0,
   "metadata": {
    "application/vnd.databricks.v1+cell": {
     "cellMetadata": {
      "byteLimit": 2048000,
      "rowLimit": 10000
     },
     "inputWidgets": {},
     "nuid": "0d305322-979f-4845-a781-45093faa053b",
     "showTitle": false,
     "title": ""
    }
   },
   "outputs": [],
   "source": [
    "\n",
    "log.to_csv(\"/dbfs/tmp/s3_insights_v2.csv\")"
   ]
  },
  {
   "cell_type": "code",
   "execution_count": 0,
   "metadata": {
    "application/vnd.databricks.v1+cell": {
     "cellMetadata": {
      "byteLimit": 2048000,
      "rowLimit": 10000
     },
     "inputWidgets": {},
     "nuid": "927cd38f-2ce3-4b7f-a842-a158756abb37",
     "showTitle": false,
     "title": ""
    }
   },
   "outputs": [
    {
     "output_type": "stream",
     "name": "stdout",
     "output_type": "stream",
     "text": [
      "\nInsights:\n1. The creative name 'CA_TENA_DISPLAY_INCO_CA_APEX Programmatic Display Video-CA-TENA-DD-INCO-Men-M45+-PRO-PROOX-PD-DCPM-TENA-Men-Acceptors-StandardBanner-Prop-EN-160x600-New-GLD000KJGC_230228_DCM_360691291' suggests that this is a programmatic display video ad campaign for TENA targeting men aged 45 and above, with a creative size of 160x600 pixels. The creative name also indicates that this is a new campaign with the ID '360691291'.\n\n2. The 'impressions_display' metric indicates that this creative has been displayed 7 times. This means that the ad has been shown to potential viewers 7 times, but it does not necessarily mean that 7 unique individuals have seen the ad.\n\n3. The 'clicks' metric is 0, indicating that no clicks have been recorded for this creative. This could mean that the ad is not resonating with the target audience or that it is not being shown to the right audience.\n\n4. The 'total_conversions' metric is also 0, indicating that no conversions have been recorded for this creative. A conversion is typically defined as a desired action taken by a user, such as making a purchase or filling out a form. The lack of conversions could suggest that the ad is not effective in driving desired user actions.\n\nSummary:\nBased on the provided data, it appears that this programmatic display video ad campaign for TENA targeting men aged 45 and above with a creative size of 160x600 pixels has been displayed 7 times but has not yet resulted in any clicks or conversions. This could indicate that the ad is not resonating with the target audience or that it is not being shown to the right audience. Further analysis, such as reviewing demographic data or user behavior data, could provide additional insights into why the ad is not performing well.\n"
     ]
    }
   ],
   "source": [
    "print(log['LLM_Response'][1])"
   ]
  },
  {
   "cell_type": "code",
   "execution_count": 0,
   "metadata": {
    "application/vnd.databricks.v1+cell": {
     "cellMetadata": {
      "byteLimit": 2048000,
      "rowLimit": 10000
     },
     "inputWidgets": {},
     "nuid": "860d201a-88a5-4c6e-a072-0941aeedaaef",
     "showTitle": false,
     "title": ""
    }
   },
   "outputs": [
    {
     "output_type": "stream",
     "name": "stdout",
     "output_type": "stream",
     "text": [
      "\nInsights:\n1. The given data represents the demographic segment 'Households by Maintainer Age' with a specific age range 'Maintainers 25 To 34'. This indicates that the campaign is targeting households where the primary decision-maker or maintainer is between the ages of 25 and 34.\n2. The 'impressions_display' metric shows that this demographic segment was displayed 9 times in the campaign. This suggests that the campaign reached out to 9 households within this age group during the campaign period.\n3. The 'clicks' metric is zero, indicating that no clicks were recorded for this demographic segment during the campaign. This could mean that the campaign did not resonate with this age group or that the ad creative did not effectively engage them.\n4. The 'total_conversions' metric is also zero, suggesting that no conversions were made by this demographic segment during the campaign. This could be due to a lack of interest, ineffective targeting, or poor ad creative.\n\nSummary:\nThe data suggests that the campaign reached out to 9 households with primary decision-makers between the ages of 25 and 34, but failed to generate any clicks or conversions from this demographic segment. This could indicate that the campaign was not effectively targeted towards this age group or that the ad creative did not resonate with them. Further analysis and optimization of the campaign targeting and creative could be necessary to improve performance for this demographic segment.\n"
     ]
    }
   ],
   "source": [
    "print(log['LLM_Response'][2])"
   ]
  },
  {
   "cell_type": "code",
   "execution_count": 0,
   "metadata": {
    "application/vnd.databricks.v1+cell": {
     "cellMetadata": {
      "byteLimit": 2048000,
      "rowLimit": 10000
     },
     "inputWidgets": {},
     "nuid": "667b5fdb-203e-47ba-951f-22f59ce2717e",
     "showTitle": false,
     "title": ""
    }
   },
   "outputs": [
    {
     "output_type": "stream",
     "name": "stdout",
     "output_type": "stream",
     "text": [
      "\nInsights:\n1. The given row represents an advertising campaign category as 'Online Product Purchase' with a description 'Expected online spend [Nxt 12 Mths] - Government services - Less'. This indicates that the campaign is focused on reducing the expected online spend for government services in the next 12 months.\n2. The 'impressions_display' value is 72. This metric represents the number of times the ad was displayed to users. A low number of impressions could mean that the ad is not reaching a large audience or that the targeting is not effective. However, in this case, it's not possible to make definitive conclusions based on this single data point.\n3. The 'clicks' value is 0. This metric represents the number of times users have clicked on the ad. A low number of clicks could indicate that the ad is not resonating with the target audience or that the call-to-action is not clear. In this case, it's also not possible to make definitive conclusions based on this single data point.\n4. The 'total_conversions' value is 0. This metric represents the number of conversions (sales, sign-ups, etc.) generated by the ad. A low number of conversions could indicate that the ad is not effectively driving desired user actions or that the targeting is not accurate. In this case, it's also not possible to make definitive conclusions based on this single data point.\n5. The 'population1_display' value is 461.4. This metric represents the estimated size of the audience that the ad was displayed to, based on demographic targeting. A low population size could indicate that the ad is not reaching a large enough audience or that the targeting is too narrow. In this case, it's not possible to make definitive conclusions based on this single data point, but it's worth noting that a smaller population size could contribute to the low number of impressions, clicks, and conversions.\n\nSummary:\nThe given data point represents a campaign focused on reducing expected online spend for government services in the next 12 months. The low number of impressions, clicks, and conversions, along with a smaller estimated audience size, suggest that the ad is not effectively reaching and engaging the target audience. Further analysis, such as examining the targeting criteria and ad\n"
     ]
    }
   ],
   "source": [
    "print(log['LLM_Response'][3])"
   ]
  },
  {
   "cell_type": "code",
   "execution_count": 0,
   "metadata": {
    "application/vnd.databricks.v1+cell": {
     "cellMetadata": {
      "byteLimit": 2048000,
      "rowLimit": 10000
     },
     "inputWidgets": {},
     "nuid": "15e4699e-2fdf-49e6-b3a0-201a979c400b",
     "showTitle": false,
     "title": ""
    }
   },
   "outputs": [
    {
     "output_type": "stream",
     "name": "stdout",
     "output_type": "stream",
     "text": [
      "\nInsights:\n1. Impression count display: The advertiser 'CA - Tena c.o Starcom Canada' had a total of 2,789,888 impressions during the campaign period from May 1, 2023, to May 31, 2023. This indicates a significant reach for their advertising message, potentially leading to brand awareness and recall.\n\n2. Clicks count: With a total of 2,450 clicks recorded during the campaign, it suggests that a considerable number of users were engaged enough by the ad to click on it. This engagement could translate into potential leads or sales, depending on the nature of the advertiser's business.\n\n3. Click-through rate (CTR): The CTR of 0.0878% is a crucial metric to evaluate the effectiveness of the ad. A higher CTR indicates that a larger percentage of users who saw the ad clicked on it, suggesting that the ad was more appealing and relevant to the target audience. In this case, the CTR is relatively low, which could indicate room for improvement in the ad's targeting, messaging, or design.\n\nSummary:\nThe data for the advertising campaign by 'CA - Tena c.o Starcom Canada' reveals that they had a substantial reach with over 2.79 million impressions during the campaign period. While the number of clicks recorded was also considerable, the relatively low CTR of 0.0878% suggests that there is room for improvement in the ad's targeting, messaging, or design to increase user engagement and click-throughs.\n"
     ]
    }
   ],
   "source": [
    "print(log['LLM_Response'][4])"
   ]
  },
  {
   "cell_type": "code",
   "execution_count": 0,
   "metadata": {
    "application/vnd.databricks.v1+cell": {
     "cellMetadata": {
      "byteLimit": 2048000,
      "rowLimit": 10000
     },
     "inputWidgets": {},
     "nuid": "2ebcaf01-cfed-45a0-898c-b9ff6322bb3e",
     "showTitle": false,
     "title": ""
    }
   },
   "outputs": [
    {
     "output_type": "stream",
     "name": "stdout",
     "output_type": "stream",
     "text": [
      "\nInsights:\n1. The given row represents data for an advertising campaign in the 'Personal Care - Cosmetics' category, specifically for 'Frequency of Using' non-disposable shavers.\n2. The 'impressions_display' metric indicates that the ad was displayed 60 times during the past week. This suggests a moderate level of engagement with the ad, as the number of impressions is not extremely high but still significant.\n3. The 'clicks' metric is zero, indicating that no clicks were recorded for this ad during the past week. This could be due to various reasons such as low relevance, poor ad placement, or lack of interest from the target audience.\n4. The 'total_conversions' metric is also zero, suggesting that no sales or conversions were generated from this ad during the past week. This could be due to the lack of clicks or the fact that the target audience was not in the purchasing mindset during the campaign period.\n5. The 'population1_display' metric represents the estimated population that was exposed to the ad during the past week. In this case, it is 5645.58, which is a relatively large number. This indicates that the ad reached a substantial portion of the target audience, increasing its potential reach and impact.\n\nSummary:\nThe data in the given row suggests that an advertising campaign for non-disposable shavers in the 'Personal Care - Cosmetics' category had moderate engagement during the past week, with 60 impressions recorded but no clicks or conversions generated. The ad reached a substantial portion of the target audience, with an estimated population of 5645.58 being exposed to it. However, the lack of clicks and conversions indicates that the ad may need to be optimized to improve its performance and generate sales or leads.\n"
     ]
    }
   ],
   "source": [
    "print(log['LLM_Response'][5])"
   ]
  },
  {
   "cell_type": "code",
   "execution_count": 0,
   "metadata": {
    "application/vnd.databricks.v1+cell": {
     "cellMetadata": {},
     "inputWidgets": {},
     "nuid": "4ab486b3-5789-40b6-a077-18dacee62682",
     "showTitle": false,
     "title": ""
    }
   },
   "outputs": [],
   "source": []
  }
 ],
 "metadata": {
  "application/vnd.databricks.v1+notebook": {
   "dashboards": [],
   "language": "python",
   "notebookMetadata": {
    "mostRecentlyExecutedCommandWithImplicitDF": {
     "commandId": -1,
     "dataframes": [
      "_sqldf"
     ]
    },
    "pythonIndentUnit": 2
   },
   "notebookName": "Campaign_Insights_LLM",
   "widgets": {}
  }
 },
 "nbformat": 4,
 "nbformat_minor": 0
}
